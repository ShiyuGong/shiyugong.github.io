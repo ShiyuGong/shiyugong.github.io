{
  "nbformat": 4,
  "nbformat_minor": 0,
  "metadata": {
    "colab": {
      "name": "HW5: Digits_Classification.ipynb",
      "version": "0.3.2",
      "provenance": [],
      "collapsed_sections": [],
      "toc_visible": true,
      "include_colab_link": true
    },
    "kernelspec": {
      "name": "python3",
      "display_name": "Python 3"
    }
  },
  "cells": [
    {
      "cell_type": "markdown",
      "metadata": {
        "id": "view-in-github",
        "colab_type": "text"
      },
      "source": [
        "<a href=\"https://colab.research.google.com/github/ShiyuGong/shiyugong.github.io/blob/master/Digits_Classification.ipynb\" target=\"_parent\"><img src=\"https://colab.research.google.com/assets/colab-badge.svg\" alt=\"Open In Colab\"/></a>"
      ]
    },
    {
      "metadata": {
        "id": "Kv6VAe-KLaGC",
        "colab_type": "text"
      },
      "cell_type": "markdown",
      "source": [
        "# Classification\n"
      ]
    },
    {
      "metadata": {
        "id": "Uvaa8hU70zD9",
        "colab_type": "text"
      },
      "cell_type": "markdown",
      "source": [
        "In this colab notebook, we try to use different classification models for digit recognition and to see which model has the best performance."
      ]
    },
    {
      "metadata": {
        "id": "NVzRW0dRj_AU",
        "colab_type": "text"
      },
      "cell_type": "markdown",
      "source": [
        "## Ingest Digits Dataset"
      ]
    },
    {
      "metadata": {
        "id": "oRb65EyGpqOi",
        "colab_type": "code",
        "colab": {}
      },
      "cell_type": "code",
      "source": [
        "import matplotlib.pyplot as plt\n",
        "from sklearn.model_selection import train_test_split\n",
        "from sklearn import datasets, svm, metrics\n",
        "import seaborn as sns\n",
        "\n",
        "digits = datasets.load_digits()"
      ],
      "execution_count": 0,
      "outputs": []
    },
    {
      "metadata": {
        "id": "m4uXgAAUrJiZ",
        "colab_type": "text"
      },
      "cell_type": "markdown",
      "source": [
        "## EDA"
      ]
    },
    {
      "metadata": {
        "id": "O8nc8IQKqgsY",
        "colab_type": "code",
        "outputId": "95709c48-994e-4044-efd9-8cddb5834136",
        "colab": {
          "base_uri": "https://localhost:8080/",
          "height": 34
        }
      },
      "cell_type": "code",
      "source": [
        "digits.data.shape"
      ],
      "execution_count": 0,
      "outputs": [
        {
          "output_type": "execute_result",
          "data": {
            "text/plain": [
              "(1797, 64)"
            ]
          },
          "metadata": {
            "tags": []
          },
          "execution_count": 6
        }
      ]
    },
    {
      "metadata": {
        "id": "QFTvUwctrvjR",
        "colab_type": "text"
      },
      "cell_type": "markdown",
      "source": [
        "The data that we are interested in is made of 8x8 images of digits, let's have a look at the first 4 images."
      ]
    },
    {
      "metadata": {
        "id": "FKD3mkgjq49Y",
        "colab_type": "code",
        "outputId": "c985dfff-1212-4fb7-83db-2be5f91981e2",
        "colab": {
          "base_uri": "https://localhost:8080/",
          "height": 160
        }
      },
      "cell_type": "code",
      "source": [
        "images_and_labels = list(zip(digits.images, digits.target))\n",
        "for index, (image, label) in enumerate(images_and_labels[:4]):\n",
        "    plt.subplot(1, 4, index + 1)\n",
        "    plt.axis('off')\n",
        "    plt.imshow(image, cmap=plt.cm.gray_r, interpolation='nearest')\n",
        "    plt.title('Training: %i' % label)"
      ],
      "execution_count": 0,
      "outputs": [
        {
          "output_type": "display_data",
          "data": {
            "image/png": "[encoded data removed]",
            "text/plain": [
              "<Figure size 576x396 with 4 Axes>"
            ]
          },
          "metadata": {
            "tags": []
          }
        }
      ]
    },
    {
      "metadata": {
        "id": "daIEpC2_r2n9",
        "colab_type": "text"
      },
      "cell_type": "markdown",
      "source": [
        "## Model"
      ]
    },
    {
      "metadata": {
        "id": "H992ThKZ1DxK",
        "colab_type": "text"
      },
      "cell_type": "markdown",
      "source": [
        "The data set, digits, contains an already structured and labeled set of samples that contains pixel information for numbers up to 9 that we can use for training and testing."
      ]
    },
    {
      "metadata": {
        "id": "n96gZT1ur9yi",
        "colab_type": "code",
        "colab": {}
      },
      "cell_type": "code",
      "source": [
        "# 80% for training and 20% for testing.\n",
        "X_train, X_test, y_train, y_test = train_test_split(digits.data, digits.target, test_size =0.2, random_state=1)"
      ],
      "execution_count": 0,
      "outputs": []
    },
    {
      "metadata": {
        "id": "2tUtrN1vsaI5",
        "colab_type": "text"
      },
      "cell_type": "markdown",
      "source": [
        "The countplot is made to check whether the training dataset is biased or not towards certain numbers. According to the result, it seems the distribution of the number of digits within the training dataset seems to be even."
      ]
    },
    {
      "metadata": {
        "id": "ZJ9js0_9sQbZ",
        "colab_type": "code",
        "outputId": "1a739e7b-5527-4844-e2e7-7dc3d7653051",
        "colab": {
          "base_uri": "https://localhost:8080/",
          "height": 418
        }
      },
      "cell_type": "code",
      "source": [
        "sns.countplot(y_train)"
      ],
      "execution_count": 0,
      "outputs": [
        {
          "output_type": "stream",
          "text": [
            "/usr/local/lib/python3.6/dist-packages/seaborn/categorical.py:1428: FutureWarning: remove_na is deprecated and is a private function. Do not use.\n",
            "  stat_data = remove_na(group_data)\n"
          ],
          "name": "stderr"
        },
        {
          "output_type": "execute_result",
          "data": {
            "text/plain": [
              "<matplotlib.axes._subplots.AxesSubplot at 0x7efdde691c18>"
            ]
          },
          "metadata": {
            "tags": []
          },
          "execution_count": 35
        },
        {
          "output_type": "display_data",
          "data": {
            "image/png": "[encoded data removed]",
            "text/plain": [
              "<Figure size 576x396 with 1 Axes>"
            ]
          },
          "metadata": {
            "tags": []
          }
        }
      ]
    },
    {
      "metadata": {
        "id": "Vv924TXFzwzE",
        "colab_type": "text"
      },
      "cell_type": "markdown",
      "source": [
        "### Logistic Regression"
      ]
    },
    {
      "metadata": {
        "id": "VXWPyii_z0er",
        "colab_type": "code",
        "outputId": "2d178e55-50b1-4070-9fb2-6caf14ef817d",
        "colab": {
          "base_uri": "https://localhost:8080/",
          "height": 173
        }
      },
      "cell_type": "code",
      "source": [
        "from sklearn.linear_model import LogisticRegression\n",
        "LogisticRegr = LogisticRegression()\n",
        "\n",
        "LogisticRegr.fit(X_train, y_train)"
      ],
      "execution_count": 0,
      "outputs": [
        {
          "output_type": "stream",
          "text": [
            "/usr/local/lib/python3.6/dist-packages/sklearn/linear_model/logistic.py:433: FutureWarning: Default solver will be changed to 'lbfgs' in 0.22. Specify a solver to silence this warning.\n",
            "  FutureWarning)\n",
            "/usr/local/lib/python3.6/dist-packages/sklearn/linear_model/logistic.py:460: FutureWarning: Default multi_class will be changed to 'auto' in 0.22. Specify the multi_class option to silence this warning.\n",
            "  \"this warning.\", FutureWarning)\n"
          ],
          "name": "stderr"
        },
        {
          "output_type": "execute_result",
          "data": {
            "text/plain": [
              "LogisticRegression(C=1.0, class_weight=None, dual=False, fit_intercept=True,\n",
              "          intercept_scaling=1, max_iter=100, multi_class='warn',\n",
              "          n_jobs=None, penalty='l2', random_state=None, solver='warn',\n",
              "          tol=0.0001, verbose=0, warm_start=False)"
            ]
          },
          "metadata": {
            "tags": []
          },
          "execution_count": 36
        }
      ]
    },
    {
      "metadata": {
        "id": "-Df6iImD1gHe",
        "colab_type": "text"
      },
      "cell_type": "markdown",
      "source": [
        "#### Evaluation Logistic Regression Performance"
      ]
    },
    {
      "metadata": {
        "id": "vxm9yOJ20BJa",
        "colab_type": "code",
        "outputId": "5cb0ef66-2bf1-40f6-bb2c-f510fff44e1e",
        "colab": {
          "base_uri": "https://localhost:8080/",
          "height": 835
        }
      },
      "cell_type": "code",
      "source": [
        "y_pred_LogisticRegr=LogisticRegr.predict(X_test)\n",
        "metrics.classification_report(y_test, y_pred_LogisticRegr)\n",
        "\n",
        "print(\"Classification report for classifier %s:\\n%s\\n\"\n",
        "      % (LogisticRegr, metrics.classification_report(y_test, y_pred_LogisticRegr)))\n",
        "#print(\"Confusion matrix:\\n%s\" % metrics.confusion_matrix(y_test, y_pred_LogisticRegr))\n",
        "\n",
        "from yellowbrick.classifier import ConfusionMatrix\n",
        "cm_LogisticRegr = ConfusionMatrix(LogisticRegr, classes=[0,1,2,3,4,5,6,7,8,9])\n",
        "\n",
        "cm_LogisticRegr.fit(X_train, y_train)\n",
        "\n",
        "# To create the ConfusionMatrix, we need some test data. Score runs predict() on the data\n",
        "# and then creates the confusion_matrix from scikit-learn.\n",
        "cm_LogisticRegr.score(X_test, y_test)\n",
        "\n",
        "\n",
        "cm_LogisticRegr.poof()"
      ],
      "execution_count": 0,
      "outputs": [
        {
          "output_type": "stream",
          "text": [
            "Classification report for classifier LogisticRegression(C=1.0, class_weight=None, dual=False, fit_intercept=True,\n",
            "          intercept_scaling=1, max_iter=100, multi_class='warn',\n",
            "          n_jobs=None, penalty='l2', random_state=None, solver='warn',\n",
            "          tol=0.0001, verbose=0, warm_start=False):\n",
            "              precision    recall  f1-score   support\n",
            "\n",
            "           0       1.00      0.98      0.99        43\n",
            "           1       1.00      0.97      0.99        35\n",
            "           2       1.00      0.97      0.99        36\n",
            "           3       0.95      0.95      0.95        41\n",
            "           4       0.97      1.00      0.99        38\n",
            "           5       0.94      0.97      0.95        30\n",
            "           6       1.00      1.00      1.00        37\n",
            "           7       1.00      0.97      0.99        37\n",
            "           8       0.90      0.93      0.92        29\n",
            "           9       0.91      0.94      0.93        34\n",
            "\n",
            "   micro avg       0.97      0.97      0.97       360\n",
            "   macro avg       0.97      0.97      0.97       360\n",
            "weighted avg       0.97      0.97      0.97       360\n",
            "\n",
            "\n"
          ],
          "name": "stdout"
        },
        {
          "output_type": "stream",
          "text": [
            "/usr/local/lib/python3.6/dist-packages/sklearn/linear_model/logistic.py:433: FutureWarning: Default solver will be changed to 'lbfgs' in 0.22. Specify a solver to silence this warning.\n",
            "  FutureWarning)\n",
            "/usr/local/lib/python3.6/dist-packages/sklearn/linear_model/logistic.py:460: FutureWarning: Default multi_class will be changed to 'auto' in 0.22. Specify the multi_class option to silence this warning.\n",
            "  \"this warning.\", FutureWarning)\n"
          ],
          "name": "stderr"
        },
        {
          "output_type": "display_data",
          "data": {
            "image/png": "[encoded data removed]",
            "text/plain": [
              "<Figure size 576x396 with 1 Axes>"
            ]
          },
          "metadata": {
            "tags": []
          }
        }
      ]
    },
    {
      "metadata": {
        "id": "I4PyH-4G21Om",
        "colab_type": "code",
        "outputId": "8ca3e241-717a-45b3-9fc3-0c4be88e2b9c",
        "colab": {
          "base_uri": "https://localhost:8080/",
          "height": 85
        }
      },
      "cell_type": "code",
      "source": [
        "from sklearn.metrics import accuracy_score\n",
        "model_acc = LogisticRegr.score(X_test, y_test)\n",
        "test_acc = accuracy_score(y_test, y_pred_LogisticRegr)\n",
        "\n",
        "print('\\nRandom Forest Trained Classifier Accuracy: ', model_acc)\n",
        "print('\\nAccuracy of Classifier on Validation Images: ',test_acc)"
      ],
      "execution_count": 0,
      "outputs": [
        {
          "output_type": "stream",
          "text": [
            "\n",
            "Random Forest Trained Classifier Accuracy:  0.9694444444444444\n",
            "\n",
            "Accuracy of Classifier on Validation Images:  0.9694444444444444\n"
          ],
          "name": "stdout"
        }
      ]
    },
    {
      "metadata": {
        "id": "16770TqQuAv_",
        "colab_type": "text"
      },
      "cell_type": "markdown",
      "source": [
        "### Random Forest"
      ]
    },
    {
      "metadata": {
        "id": "mSN9U2P9uAQD",
        "colab_type": "code",
        "outputId": "f6438cb1-8ca2-4e81-8425-53675bd11aa2",
        "colab": {
          "base_uri": "https://localhost:8080/",
          "height": 136
        }
      },
      "cell_type": "code",
      "source": [
        "from sklearn.ensemble import RandomForestClassifier\n",
        "rf = RandomForestClassifier(n_estimators = 100, n_jobs=1, criterion=\"gini\")\n",
        "rf.fit(X_train, y_train)"
      ],
      "execution_count": 0,
      "outputs": [
        {
          "output_type": "execute_result",
          "data": {
            "text/plain": [
              "RandomForestClassifier(bootstrap=True, class_weight=None, criterion='gini',\n",
              "            max_depth=None, max_features='auto', max_leaf_nodes=None,\n",
              "            min_impurity_decrease=0.0, min_impurity_split=None,\n",
              "            min_samples_leaf=1, min_samples_split=2,\n",
              "            min_weight_fraction_leaf=0.0, n_estimators=100, n_jobs=1,\n",
              "            oob_score=False, random_state=None, verbose=0,\n",
              "            warm_start=False)"
            ]
          },
          "metadata": {
            "tags": []
          },
          "execution_count": 39
        }
      ]
    },
    {
      "metadata": {
        "id": "IAvb3F8410JI",
        "colab_type": "text"
      },
      "cell_type": "markdown",
      "source": [
        "#### Evaluation Random Forest Performance"
      ]
    },
    {
      "metadata": {
        "id": "WRqPqBgFuyqx",
        "colab_type": "code",
        "outputId": "37b33718-7235-42ca-80c9-11a8b437e39d",
        "colab": {
          "base_uri": "https://localhost:8080/",
          "height": 798
        }
      },
      "cell_type": "code",
      "source": [
        "y_pred_rf=rf.predict(X_test)\n",
        "metrics.classification_report(y_test, y_pred_rf)\n",
        "\n",
        "print(\"Classification report for classifier %s:\\n%s\\n\"\n",
        "      % (rf, metrics.classification_report(y_test, y_pred_rf)))\n",
        "#print(\"Confusion matrix:\\n%s\" % metrics.confusion_matrix(y_test, y_pred_rf))\n",
        "\n",
        "from yellowbrick.classifier import ConfusionMatrix\n",
        "cm_rf = ConfusionMatrix(rf, classes=[0,1,2,3,4,5,6,7,8,9])\n",
        "\n",
        "cm_rf.fit(X_train, y_train)\n",
        "\n",
        "# To create the ConfusionMatrix, we need some test data. Score runs predict() on the data\n",
        "# and then creates the confusion_matrix from scikit-learn.\n",
        "cm_rf.score(X_test, y_test)\n",
        "\n",
        "\n",
        "cm_rf.poof()"
      ],
      "execution_count": 0,
      "outputs": [
        {
          "output_type": "stream",
          "text": [
            "Classification report for classifier RandomForestClassifier(bootstrap=True, class_weight=None, criterion='gini',\n",
            "            max_depth=None, max_features='auto', max_leaf_nodes=None,\n",
            "            min_impurity_decrease=0.0, min_impurity_split=None,\n",
            "            min_samples_leaf=1, min_samples_split=2,\n",
            "            min_weight_fraction_leaf=0.0, n_estimators=100, n_jobs=1,\n",
            "            oob_score=False, random_state=None, verbose=0,\n",
            "            warm_start=False):\n",
            "              precision    recall  f1-score   support\n",
            "\n",
            "           0       1.00      0.95      0.98        43\n",
            "           1       1.00      1.00      1.00        35\n",
            "           2       1.00      1.00      1.00        36\n",
            "           3       1.00      0.95      0.97        41\n",
            "           4       0.95      1.00      0.97        38\n",
            "           5       0.97      1.00      0.98        30\n",
            "           6       1.00      1.00      1.00        37\n",
            "           7       1.00      0.97      0.99        37\n",
            "           8       0.93      0.97      0.95        29\n",
            "           9       0.94      0.97      0.96        34\n",
            "\n",
            "   micro avg       0.98      0.98      0.98       360\n",
            "   macro avg       0.98      0.98      0.98       360\n",
            "weighted avg       0.98      0.98      0.98       360\n",
            "\n",
            "\n"
          ],
          "name": "stdout"
        },
        {
          "output_type": "display_data",
          "data": {
            "image/png": "[encoded data removed]",
            "text/plain": [
              "<Figure size 576x396 with 1 Axes>"
            ]
          },
          "metadata": {
            "tags": []
          }
        }
      ]
    },
    {
      "metadata": {
        "id": "5ZTwfjO7v96W",
        "colab_type": "code",
        "outputId": "21092619-7b1b-4f61-ce13-c6718d215ba4",
        "colab": {
          "base_uri": "https://localhost:8080/",
          "height": 85
        }
      },
      "cell_type": "code",
      "source": [
        "model_acc = rf.score(X_test, y_test)\n",
        "test_acc = accuracy_score(y_test, y_pred_rf)\n",
        "\n",
        "print('\\nRandom Forest Trained Classifier Accuracy: ', model_acc)\n",
        "print('\\nAccuracy of Classifier on Validation Images: ',test_acc)"
      ],
      "execution_count": 0,
      "outputs": [
        {
          "output_type": "stream",
          "text": [
            "\n",
            "Random Forest Trained Classifier Accuracy:  0.975\n",
            "\n",
            "Accuracy of Classifier on Validation Images:  0.9805555555555555\n"
          ],
          "name": "stdout"
        }
      ]
    },
    {
      "metadata": {
        "id": "VZ0ex44ixeY-",
        "colab_type": "text"
      },
      "cell_type": "markdown",
      "source": [
        "### Support Vector Machine (SVM)"
      ]
    },
    {
      "metadata": {
        "id": "j_DFEQ_vxpDe",
        "colab_type": "code",
        "outputId": "c5174ede-ea6a-485c-c870-c9df61bb22de",
        "colab": {
          "base_uri": "https://localhost:8080/",
          "height": 85
        }
      },
      "cell_type": "code",
      "source": [
        "svm = svm.SVC(gamma=0.001, kernel='poly', random_state = 0)\n",
        "svm.fit(X_train, y_train)"
      ],
      "execution_count": 0,
      "outputs": [
        {
          "output_type": "execute_result",
          "data": {
            "text/plain": [
              "SVC(C=1.0, cache_size=200, class_weight=None, coef0=0.0,\n",
              "  decision_function_shape='ovr', degree=3, gamma=0.001, kernel='poly',\n",
              "  max_iter=-1, probability=False, random_state=0, shrinking=True,\n",
              "  tol=0.001, verbose=False)"
            ]
          },
          "metadata": {
            "tags": []
          },
          "execution_count": 26
        }
      ]
    },
    {
      "metadata": {
        "id": "itGK4y2P15qU",
        "colab_type": "text"
      },
      "cell_type": "markdown",
      "source": [
        "#### Evaluation SVM Performance"
      ]
    },
    {
      "metadata": {
        "id": "qOeckMw2x4LO",
        "colab_type": "code",
        "outputId": "772ce0cd-dec3-4931-aa2c-ec6930b799d1",
        "colab": {
          "base_uri": "https://localhost:8080/",
          "height": 747
        }
      },
      "cell_type": "code",
      "source": [
        "y_pred_svm=svm.predict(X_test)\n",
        "metrics.classification_report(y_test, y_pred_svm)\n",
        "\n",
        "print(\"Classification report for classifier %s:\\n%s\\n\"\n",
        "      % (svm, metrics.classification_report(y_test, y_pred_svm)))\n",
        "#print(\"Confusion matrix:\\n%s\" % metrics.confusion_matrix(y_test, y_pred_rf))\n",
        "\n",
        "from yellowbrick.classifier import ConfusionMatrix\n",
        "cm_svm = ConfusionMatrix(svm, classes=[0,1,2,3,4,5,6,7,8,9])\n",
        "\n",
        "cm_svm.fit(X_train, y_train)\n",
        "\n",
        "cm_svm.score(X_test, y_test)\n",
        "\n",
        "cm_svm.poof()"
      ],
      "execution_count": 0,
      "outputs": [
        {
          "output_type": "stream",
          "text": [
            "Classification report for classifier SVC(C=1.0, cache_size=200, class_weight=None, coef0=0.0,\n",
            "  decision_function_shape='ovr', degree=3, gamma=0.001, kernel='poly',\n",
            "  max_iter=-1, probability=False, random_state=0, shrinking=True,\n",
            "  tol=0.001, verbose=False):\n",
            "              precision    recall  f1-score   support\n",
            "\n",
            "           0       1.00      0.98      0.99        43\n",
            "           1       1.00      1.00      1.00        35\n",
            "           2       1.00      1.00      1.00        36\n",
            "           3       1.00      1.00      1.00        41\n",
            "           4       0.97      1.00      0.99        38\n",
            "           5       0.97      0.97      0.97        30\n",
            "           6       1.00      1.00      1.00        37\n",
            "           7       1.00      0.97      0.99        37\n",
            "           8       1.00      0.97      0.98        29\n",
            "           9       0.92      0.97      0.94        34\n",
            "\n",
            "   micro avg       0.99      0.99      0.99       360\n",
            "   macro avg       0.99      0.99      0.99       360\n",
            "weighted avg       0.99      0.99      0.99       360\n",
            "\n",
            "\n"
          ],
          "name": "stdout"
        },
        {
          "output_type": "display_data",
          "data": {
            "image/png": "[encoded data removed]",
            "text/plain": [
              "<Figure size 576x396 with 1 Axes>"
            ]
          },
          "metadata": {
            "tags": []
          }
        }
      ]
    },
    {
      "metadata": {
        "id": "L2izUGLa3Mxs",
        "colab_type": "code",
        "outputId": "9298aac6-7278-4cfa-8723-a576f7d871a2",
        "colab": {
          "base_uri": "https://localhost:8080/",
          "height": 85
        }
      },
      "cell_type": "code",
      "source": [
        "model_acc = svm.score(X_test, y_test)\n",
        "test_acc = accuracy_score(y_test, y_pred_svm)\n",
        "\n",
        "print('\\nRandom Forest Trained Classifier Accuracy: ', model_acc)\n",
        "print('\\nAccuracy of Classifier on Validation Images: ',test_acc)"
      ],
      "execution_count": 0,
      "outputs": [
        {
          "output_type": "stream",
          "text": [
            "\n",
            "Random Forest Trained Classifier Accuracy:  0.9861111111111112\n",
            "\n",
            "Accuracy of Classifier on Validation Images:  0.9861111111111112\n"
          ],
          "name": "stdout"
        }
      ]
    },
    {
      "metadata": {
        "id": "-7WxNYE917sk",
        "colab_type": "text"
      },
      "cell_type": "markdown",
      "source": [
        "## Conclusions"
      ]
    },
    {
      "metadata": {
        "id": "WDAo3dUJ2DJm",
        "colab_type": "text"
      },
      "cell_type": "markdown",
      "source": [
        "*   We used three models to conduct digit recognition in this colab. According to the results, Support Vector Machine (0.99) is more accurate in predicting digit than Logistic Regression (0.97) and Random Forest(0.98).\n",
        "*   Classification_report, confusion matrix are used to evaluate the performance of each model.\n",
        "*   Based on the confusion matrix, we can notice that for logistic regression model there are only 5 digits without misclassification. When it comes to Random Forest and SVM, there are 7 digits with misclassification. Except for the accuracy rate, confusion matrix could provide more detailed information for us about how well the model performs for each class.\n",
        "*   Overall, SVM performs well with clear margin of separation and is effective in high dimensional spaces. However, the required training time for SVM is much higher than other models, so we should be careful if the dataset is large. \n",
        "*   For the next step, a convolutional neural network (CNN), a class of deep neural networks, most commonly applied to analyzing visual imagery. is worthwhile to try to realize higher performance.\n",
        "\n",
        "\n",
        "\n",
        "\n",
        "\n",
        "\n"
      ]
    }
  ]
}